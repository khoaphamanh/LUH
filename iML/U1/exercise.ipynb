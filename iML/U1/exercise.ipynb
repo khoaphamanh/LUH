{
 "cells": [
  {
   "cell_type": "markdown",
   "metadata": {
    "collapsed": false,
    "pycharm": {
     "name": "#%% md\n"
    }
   },
   "source": [
    "# Exercise 1\n",
    "In this exercise, you are supposed to apply several methods estimating the importance of a certain feature, so called feature importance methods. Please use scikit-learn for this exercise.\n",
    "\n",
    "* Finish the exercise until 25/10/2023 17:00 German time.\n",
    "* In order to gain a bonus point for this exercise, 4 of 5 tests should pass. We will manually check failed tests such that even if you managed to solve the exercise in a way that the tests do not pass, but it is still correct, you will still receive the bonus point.\n",
    "* More details can be found in the README.md\n",
    "\n",
    "IMPORTANT\n",
    "* Do not add or delete cells from this notebook!\n",
    "* Do not rename existing variables, in particular those ones for which assignments are missing!"
   ]
  },
  {
   "cell_type": "markdown",
   "metadata": {
    "collapsed": false,
    "pycharm": {
     "name": "#%% md\n"
    }
   },
   "source": [
    "## 1.1 Load data\n",
    "\n",
    "- Read in the csv file `wheat_seeds.csv`, which consists of 199 data instances with 8 features each.\n",
    "- Divide the data into X and y:\n",
    "  - X should be a two-dimensional numpy array with the shape (199,7) derived from all columns except the last.\n",
    "  - y should be a two-dimensional numpy array with the shape (199,) derived from the last column. This last column contains the `type` value, which we want to determine for unseen\n",
    "    data in the end.\n",
    "- Shuffle the data using `sklearn.utils.shuffle`. Set `random_state=0`.\n",
    "\n",
    "Hints:\n",
    "- Use pandas to read in the file easily and convert them to a numpy array.\n",
    "- Use `shape` to check the dimension of a numpy array."
   ]
  },
  {
   "cell_type": "code",
   "execution_count": 1,
   "metadata": {
    "collapsed": false,
    "pycharm": {
     "name": "#%%\n"
    }
   },
   "outputs": [
    {
     "name": "stdout",
     "output_type": "stream",
     "text": [
      "X_shape: (199, 7)\n",
      "y_shape: (199,)\n",
      "X_shape: (199, 7)\n",
      "y_shape: (199,)\n"
     ]
    }
   ],
   "source": [
    "import pandas as pd\n",
    "import numpy as np\n",
    "from sklearn.utils import shuffle\n",
    "\n",
    "#set the random state\n",
    "random_state = 0\n",
    "\n",
    "#load data \n",
    "data = np.array(pd.read_csv(\"wheat_seeds.csv\")) \n",
    "\n",
    "#create features and labels\n",
    "X, y = data[:,:-1], data[:,-1] # assign me\n",
    "print(\"X_shape:\",X.shape)\n",
    "print(\"y_shape:\",y.shape)\n",
    "\n",
    "#shuffle data\n",
    "X, y = shuffle(X,random_state=random_state), shuffle(y,random_state=random_state)\n",
    "print(\"X_shape:\",X.shape)\n",
    "print(\"y_shape:\",y.shape)"
   ]
  },
  {
   "cell_type": "markdown",
   "metadata": {
    "collapsed": false,
    "pycharm": {
     "name": "#%% md\n"
    }
   },
   "source": [
    "# 1.2 Drop samples with NaN as target\n",
    "\n",
    "* Drop all instances, which have NaN as a target."
   ]
  },
  {
   "cell_type": "code",
   "execution_count": 2,
   "metadata": {
    "collapsed": false,
    "pycharm": {
     "name": "#%%\n"
    }
   },
   "outputs": [
    {
     "name": "stdout",
     "output_type": "stream",
     "text": [
      "X_shape: (198, 7)\n",
      "y_shape: (198,)\n"
     ]
    }
   ],
   "source": [
    "check_nan = np.isnan(y).tolist()\n",
    "index_nan = [check_nan.index(i) for i in check_nan if i == True]\n",
    "for i in index_nan:\n",
    "    y = np.delete(y,i)\n",
    "    X = np.delete(X,i,axis=0)\n",
    "    \n",
    "print(\"X_shape:\",X.shape)\n",
    "print(\"y_shape:\",y.shape)"
   ]
  },
  {
   "cell_type": "markdown",
   "metadata": {
    "collapsed": false,
    "pycharm": {
     "name": "#%% md\n"
    }
   },
   "source": [
    "# 1.3 Split data into training and test data\n",
    "\n",
    "* Create a 70/30 train/test split, meaning that the training data should contain (roughly) 70% of the whole dataset and the test data (roughly) 30% of the original dataset.\n",
    "* This split should be stratified according to the target column.\n",
    "* Use 'sklearn.model_selection.train_test_split' with 42 as random_state for this."
   ]
  },
  {
   "cell_type": "code",
   "execution_count": 3,
   "metadata": {
    "collapsed": false,
    "pycharm": {
     "name": "#%%\n"
    }
   },
   "outputs": [
    {
     "name": "stdout",
     "output_type": "stream",
     "text": [
      "X_train shape: (138, 7)\n",
      "X_test shape: (60, 7)\n",
      "y_train shape: (138,)\n",
      "y_test shape: (60,)\n"
     ]
    }
   ],
   "source": [
    "from sklearn.model_selection import train_test_split\n",
    "\n",
    "random_state=42\n",
    "X_train, X_test, y_train, y_test = train_test_split(X,y,train_size=0.7,random_state=random_state,stratify=y)# assign me\n",
    "print(\"X_train shape:\", X_train.shape)\n",
    "print(\"X_test shape:\", X_test.shape)\n",
    "print(\"y_train shape:\", y_train.shape)\n",
    "print(\"y_test shape:\", y_test.shape)"
   ]
  },
  {
   "cell_type": "markdown",
   "metadata": {
    "collapsed": false,
    "pycharm": {
     "name": "#%% md\n"
    }
   },
   "source": [
    "# 1.4 Train a random forest from scikit-learn\n",
    "\n",
    "* Train a random forest from scikit-learn with 100 trees and 0 as random state on the training data.\n",
    "* Before training the random forest apply a standard scaler to the features.\n",
    "* Combine the two into a pipeline object."
   ]
  },
  {
   "cell_type": "code",
   "execution_count": 4,
   "metadata": {
    "collapsed": false,
    "pycharm": {
     "name": "#%%\n"
    }
   },
   "outputs": [
    {
     "data": {
      "text/html": [
       "<style>#sk-container-id-1 {color: black;background-color: white;}#sk-container-id-1 pre{padding: 0;}#sk-container-id-1 div.sk-toggleable {background-color: white;}#sk-container-id-1 label.sk-toggleable__label {cursor: pointer;display: block;width: 100%;margin-bottom: 0;padding: 0.3em;box-sizing: border-box;text-align: center;}#sk-container-id-1 label.sk-toggleable__label-arrow:before {content: \"▸\";float: left;margin-right: 0.25em;color: #696969;}#sk-container-id-1 label.sk-toggleable__label-arrow:hover:before {color: black;}#sk-container-id-1 div.sk-estimator:hover label.sk-toggleable__label-arrow:before {color: black;}#sk-container-id-1 div.sk-toggleable__content {max-height: 0;max-width: 0;overflow: hidden;text-align: left;background-color: #f0f8ff;}#sk-container-id-1 div.sk-toggleable__content pre {margin: 0.2em;color: black;border-radius: 0.25em;background-color: #f0f8ff;}#sk-container-id-1 input.sk-toggleable__control:checked~div.sk-toggleable__content {max-height: 200px;max-width: 100%;overflow: auto;}#sk-container-id-1 input.sk-toggleable__control:checked~label.sk-toggleable__label-arrow:before {content: \"▾\";}#sk-container-id-1 div.sk-estimator input.sk-toggleable__control:checked~label.sk-toggleable__label {background-color: #d4ebff;}#sk-container-id-1 div.sk-label input.sk-toggleable__control:checked~label.sk-toggleable__label {background-color: #d4ebff;}#sk-container-id-1 input.sk-hidden--visually {border: 0;clip: rect(1px 1px 1px 1px);clip: rect(1px, 1px, 1px, 1px);height: 1px;margin: -1px;overflow: hidden;padding: 0;position: absolute;width: 1px;}#sk-container-id-1 div.sk-estimator {font-family: monospace;background-color: #f0f8ff;border: 1px dotted black;border-radius: 0.25em;box-sizing: border-box;margin-bottom: 0.5em;}#sk-container-id-1 div.sk-estimator:hover {background-color: #d4ebff;}#sk-container-id-1 div.sk-parallel-item::after {content: \"\";width: 100%;border-bottom: 1px solid gray;flex-grow: 1;}#sk-container-id-1 div.sk-label:hover label.sk-toggleable__label {background-color: #d4ebff;}#sk-container-id-1 div.sk-serial::before {content: \"\";position: absolute;border-left: 1px solid gray;box-sizing: border-box;top: 0;bottom: 0;left: 50%;z-index: 0;}#sk-container-id-1 div.sk-serial {display: flex;flex-direction: column;align-items: center;background-color: white;padding-right: 0.2em;padding-left: 0.2em;position: relative;}#sk-container-id-1 div.sk-item {position: relative;z-index: 1;}#sk-container-id-1 div.sk-parallel {display: flex;align-items: stretch;justify-content: center;background-color: white;position: relative;}#sk-container-id-1 div.sk-item::before, #sk-container-id-1 div.sk-parallel-item::before {content: \"\";position: absolute;border-left: 1px solid gray;box-sizing: border-box;top: 0;bottom: 0;left: 50%;z-index: -1;}#sk-container-id-1 div.sk-parallel-item {display: flex;flex-direction: column;z-index: 1;position: relative;background-color: white;}#sk-container-id-1 div.sk-parallel-item:first-child::after {align-self: flex-end;width: 50%;}#sk-container-id-1 div.sk-parallel-item:last-child::after {align-self: flex-start;width: 50%;}#sk-container-id-1 div.sk-parallel-item:only-child::after {width: 0;}#sk-container-id-1 div.sk-dashed-wrapped {border: 1px dashed gray;margin: 0 0.4em 0.5em 0.4em;box-sizing: border-box;padding-bottom: 0.4em;background-color: white;}#sk-container-id-1 div.sk-label label {font-family: monospace;font-weight: bold;display: inline-block;line-height: 1.2em;}#sk-container-id-1 div.sk-label-container {text-align: center;}#sk-container-id-1 div.sk-container {/* jupyter's `normalize.less` sets `[hidden] { display: none; }` but bootstrap.min.css set `[hidden] { display: none !important; }` so we also need the `!important` here to be able to override the default hidden behavior on the sphinx rendered scikit-learn.org. See: https://github.com/scikit-learn/scikit-learn/issues/21755 */display: inline-block !important;position: relative;}#sk-container-id-1 div.sk-text-repr-fallback {display: none;}</style><div id=\"sk-container-id-1\" class=\"sk-top-container\"><div class=\"sk-text-repr-fallback\"><pre>Pipeline(steps=[(&#x27;standardscaler&#x27;, StandardScaler()),\n",
       "                (&#x27;randomforestclassifier&#x27;,\n",
       "                 RandomForestClassifier(random_state=0))])</pre><b>In a Jupyter environment, please rerun this cell to show the HTML representation or trust the notebook. <br />On GitHub, the HTML representation is unable to render, please try loading this page with nbviewer.org.</b></div><div class=\"sk-container\" hidden><div class=\"sk-item sk-dashed-wrapped\"><div class=\"sk-label-container\"><div class=\"sk-label sk-toggleable\"><input class=\"sk-toggleable__control sk-hidden--visually\" id=\"sk-estimator-id-1\" type=\"checkbox\" ><label for=\"sk-estimator-id-1\" class=\"sk-toggleable__label sk-toggleable__label-arrow\">Pipeline</label><div class=\"sk-toggleable__content\"><pre>Pipeline(steps=[(&#x27;standardscaler&#x27;, StandardScaler()),\n",
       "                (&#x27;randomforestclassifier&#x27;,\n",
       "                 RandomForestClassifier(random_state=0))])</pre></div></div></div><div class=\"sk-serial\"><div class=\"sk-item\"><div class=\"sk-estimator sk-toggleable\"><input class=\"sk-toggleable__control sk-hidden--visually\" id=\"sk-estimator-id-2\" type=\"checkbox\" ><label for=\"sk-estimator-id-2\" class=\"sk-toggleable__label sk-toggleable__label-arrow\">StandardScaler</label><div class=\"sk-toggleable__content\"><pre>StandardScaler()</pre></div></div></div><div class=\"sk-item\"><div class=\"sk-estimator sk-toggleable\"><input class=\"sk-toggleable__control sk-hidden--visually\" id=\"sk-estimator-id-3\" type=\"checkbox\" ><label for=\"sk-estimator-id-3\" class=\"sk-toggleable__label sk-toggleable__label-arrow\">RandomForestClassifier</label><div class=\"sk-toggleable__content\"><pre>RandomForestClassifier(random_state=0)</pre></div></div></div></div></div></div></div>"
      ],
      "text/plain": [
       "Pipeline(steps=[('standardscaler', StandardScaler()),\n",
       "                ('randomforestclassifier',\n",
       "                 RandomForestClassifier(random_state=0))])"
      ]
     },
     "execution_count": 4,
     "metadata": {},
     "output_type": "execute_result"
    }
   ],
   "source": [
    "from sklearn.ensemble import RandomForestClassifier\n",
    "from sklearn.preprocessing import StandardScaler\n",
    "from sklearn.pipeline import make_pipeline\n",
    "\n",
    "n_trees = 100\n",
    "random_state = 0\n",
    "random_forest = RandomForestClassifier(n_estimators=n_trees,random_state=random_state)# assign me\n",
    "standard_scaler = StandardScaler()# assign me\n",
    "\n",
    "pipeline = make_pipeline(standard_scaler, random_forest)\n",
    "\n",
    "# TODO fit pipeline\n",
    "pipeline.fit(X_train,y_train)"
   ]
  },
  {
   "cell_type": "markdown",
   "metadata": {
    "collapsed": false,
    "pycharm": {
     "name": "#%% md\n"
    }
   },
   "source": [
    "# 1.5 Compute feature importance based on impurity\n",
    "\n",
    "* Random forests from scikit-learn automatically deliver feature importance values based on the decrease of impurity after they have been trained.\n",
    "* Familiarize yourself with this concept by searching for corresponding material on the internet and extract the average importance across the trees of the trained forest for each feature. The result should be a numpy array with one entry per feature corresponding to that average importance.\n",
    "* Furthermore, compute the corresponding standard deviation for each feature and store it in the corresponding numpy array."
   ]
  },
  {
   "cell_type": "code",
   "execution_count": 5,
   "metadata": {
    "collapsed": false,
    "pycharm": {
     "name": "#%%\n"
    }
   },
   "outputs": [
    {
     "name": "stdout",
     "output_type": "stream",
     "text": [
      "Average feature importances: [0.17419392 0.23442027 0.04707079 0.14791778 0.15531865 0.06236171\n",
      " 0.17871688].\n",
      "Standard deviation of feature importances: [0.21261737 0.24466373 0.08670116 0.21020891 0.18980712 0.07108178\n",
      " 0.22750557].\n"
     ]
    }
   ],
   "source": [
    "import numpy as np\n",
    "\n",
    "all_trees_fearture_importances = [tree.feature_importances_ for tree in random_forest.estimators_]\n",
    "\n",
    "average_importances = np.mean(all_trees_fearture_importances,axis=0)# assign me\n",
    "std_importances = np.std(all_trees_fearture_importances,axis=0)# assign me\n",
    "\n",
    "print(f\"Average feature importances: {average_importances}.\")\n",
    "print(f\"Standard deviation of feature importances: {std_importances}.\")"
   ]
  },
  {
   "cell_type": "markdown",
   "metadata": {
    "collapsed": false,
    "pycharm": {
     "name": "#%% md\n"
    }
   },
   "source": [
    "# 1.6 Plot the feature importance including error bars\n",
    "\n",
    "* Visualize the corresponding feature importance values computed in the previous step.\n",
    "* To this end, generate a bar plot, which shows the average feature importance for each feature including the standard deviation as error bars on those bar plots."
   ]
  },
  {
   "cell_type": "code",
   "execution_count": 6,
   "metadata": {},
   "outputs": [
    {
     "data": {
      "text/plain": [
       "<matplotlib.collections.LineCollection at 0x14a9253c0>"
      ]
     },
     "execution_count": 6,
     "metadata": {},
     "output_type": "execute_result"
    },
    {
     "data": {
      "image/png": "[encoded data removed]",
      "text/plain": [
       "<Figure size 640x480 with 1 Axes>"
      ]
     },
     "metadata": {},
     "output_type": "display_data"
    }
   ],
   "source": [
    "import pandas as pd\n",
    "import matplotlib.pyplot as plt\n",
    "\n",
    "feartures = [\"feature \" + str(i) for i in range(len(average_importances))]\n",
    "# TODO generate plot\n",
    "plt.figure()\n",
    "#plot the bars\n",
    "bar_width = 0.5\n",
    "plt.bar(feartures,average_importances,width=bar_width)\n",
    "plt.ylabel(\"Mean decrease in impurity\")\n",
    "plt.title(\"Feature importances using mean decrease in impurity\")\n",
    "plt.xticks(rotation = 90)\n",
    "#plot the line\n",
    "line_position = np.arange(0,len(average_importances))\n",
    "plt.vlines(line_position,average_importances-std_importances, average_importances+std_importances,colors=\"black\")\n"
   ]
  },
  {
   "cell_type": "markdown",
   "metadata": {
    "collapsed": false,
    "pycharm": {
     "name": "#%% md\n"
    }
   },
   "source": [
    "# 1.8 Compute feature importance based on permutation\n",
    "\n",
    "* Of course there are also other ways to compute importance values for features. Another one implemented in scikit-learn is permutation-based feature importance, which can be computed independently of the used ML algorithm.\n",
    "* Familiarize yourself with this concept by searching for corresponding material on the internet and extract the average importance across 10 permutations for each feature using the test data. The result should be a numpy array with one entry per feature corresponding to that average importance. Use 0 as a random_state for this.\n",
    "* Furthermore, compute the corresponding standard deviation for each feature and store it in the corresponding numpy array."
   ]
  },
  {
   "cell_type": "code",
   "execution_count": 7,
   "metadata": {},
   "outputs": [
    {
     "name": "stdout",
     "output_type": "stream",
     "text": [
      "Average feature importances: [ 0.015       0.03333333  0.         -0.01166667 -0.02        0.01833333\n",
      "  0.02166667].\n",
      "Standard deviation of feature importances: [0.02733537 0.03073181 0.         0.02114763 0.01452966 0.01166667\n",
      " 0.01674979].\n"
     ]
    }
   ],
   "source": [
    "from sklearn.inspection import permutation_importance\n",
    "\n",
    "perm_im = permutation_importance(pipeline,X_test,y_test,n_repeats=10,random_state=0)\n",
    "\n",
    "average_permutation_importance = perm_im[\"importances_mean\"] # assign me\n",
    "std_permutation_importance = perm_im[\"importances_std\"]# assign me\n",
    "\n",
    "print(f\"Average feature importances: {average_permutation_importance}.\")\n",
    "print(f\"Standard deviation of feature importances: {std_permutation_importance}.\")"
   ]
  },
  {
   "cell_type": "markdown",
   "metadata": {
    "collapsed": false,
    "pycharm": {
     "name": "#%% md\n"
    }
   },
   "source": [
    "# 1.9 Plot the permutation based feature importance including error bars\n",
    "\n",
    "* Once again, plot the corresponding importance values as for the impurity based feature importances before."
   ]
  },
  {
   "cell_type": "code",
   "execution_count": 8,
   "metadata": {},
   "outputs": [
    {
     "data": {
      "text/plain": [
       "<matplotlib.collections.LineCollection at 0x14aa2b670>"
      ]
     },
     "execution_count": 8,
     "metadata": {},
     "output_type": "execute_result"
    },
    {
     "data": {
      "image/png": "[encoded data removed]",
      "text/plain": [
       "<Figure size 640x480 with 1 Axes>"
      ]
     },
     "metadata": {},
     "output_type": "display_data"
    }
   ],
   "source": [
    "feartures = [\"feature \" + str(i) for i in range(len(average_permutation_importance))]\n",
    "# TODO generate plot\n",
    "plt.figure()\n",
    "#plot the bars\n",
    "bar_width = 0.5\n",
    "plt.bar(feartures,average_permutation_importance,width=bar_width)\n",
    "plt.ylabel(\"Mean decrease in impurity\")\n",
    "plt.title(\"Feature importances using mean decrease in impurity\")\n",
    "plt.xticks(rotation = 90)\n",
    "#plot the line\n",
    "line_position = np.arange(0,len(average_permutation_importance))\n",
    "plt.vlines(line_position,average_permutation_importance-std_permutation_importance, average_permutation_importance+std_permutation_importance,colors=\"black\")\n",
    "# TODO generate plot"
   ]
  },
  {
   "cell_type": "markdown",
   "metadata": {
    "collapsed": false,
    "pycharm": {
     "name": "#%% md\n"
    }
   },
   "source": [
    "# Further Reading (non-mandatory)\n",
    "\n",
    "Below we provide some references for more information on the two feature importance approaches. Reading these is not mandatory, but rather an additional offer from our side, if you want to learn more details about the approaches and their limitations.\n",
    "\n",
    "* Impurity based feature importance:\n",
    "    * https://arxiv.org/pdf/2001.04295.pdf\n",
    "\n",
    "* Permutation based feature importance:\n",
    "    * https://christophm.github.io/interpretable-ml-book/feature-importance.html\n"
   ]
  }
 ],
 "metadata": {
  "kernelspec": {
   "display_name": "Python 3",
   "language": "python",
   "name": "python3"
  },
  "language_info": {
   "codemirror_mode": {
    "name": "ipython",
    "version": 3
   },
   "file_extension": ".py",
   "mimetype": "text/x-python",
   "name": "python",
   "nbconvert_exporter": "python",
   "pygments_lexer": "ipython3",
   "version": "3.10.10"
  }
 },
 "nbformat": 4,
 "nbformat_minor": 0
}
